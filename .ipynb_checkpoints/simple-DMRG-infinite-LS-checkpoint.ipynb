{
 "cells": [
  {
   "cell_type": "markdown",
   "metadata": {},
   "source": [
    "This is a note of simple DMRG infinite case. Here we take 1D XXZ model as an example.\n",
    "\n",
    "\\section{Hamiltonian}\n",
    "\\begin{equation}\n",
    "    H = \\sum_{i=1, \\alpha}^{L-1} J_\\alpha S_i^\\alpha  S_{i+1}^\\alpha\n",
    "    - \\sum_{i=1}^{L} h S_i^z  \n",
    "\\end{equation}\n",
    "\n",
    "where $L$ is the total number of spins, $\\alpha = x,y,z$.\n",
    "\n",
    "Here we use the XXZ model for the first term, in which $J_x = J_y = J_{xy}$:\n",
    "\\begin{align}\n",
    "    H_{XXZ} & = \\sum_{i=1}^{L-1} [J_{xy} (S_i^x  S_{i+1}^x + S_i^y  S_{i+1}^y) + J_z S_i^z  S_{i+1}^z]\\\\\n",
    "            & = \\sum_{i=1}^{L-1} [\\frac{J_{xy}}{2} (S_i^+  S_{i+1}^- + S_{i+1}^+ S_i^-  ) + J_z S_i^z  S_{i+1}^z]\n",
    "\\end{align}\n",
    "\n",
    "where $S^\\pm = S^x \\pm i S^y$."
   ]
  },
  {
   "cell_type": "code",
   "execution_count": 31,
   "metadata": {},
   "outputs": [],
   "source": [
    "using LinearAlgebra\n",
    "using SparseArrays\n",
    "using Arpack\n",
    "using BenchmarkTools"
   ]
  },
  {
   "cell_type": "markdown",
   "metadata": {},
   "source": [
    "1. Hamiltonain structure A..B\n",
    "define a new struct block A (dimension, matrix)\n",
    "define another struct superblock A. (new dimenson, matrix) \n",
    "function input A --> A.\n",
    "\n",
    "2. function turncate"
   ]
  },
  {
   "cell_type": "code",
   "execution_count": 33,
   "metadata": {},
   "outputs": [
    {
     "ename": "ErrorException",
     "evalue": "invalid redefinition of constant Block",
     "output_type": "error",
     "traceback": [
      "invalid redefinition of constant Block",
      "",
      "Stacktrace:",
      " [1] top-level scope at none:0"
     ]
    }
   ],
   "source": [
    "Jz = 1.\n",
    "h = 0.\n",
    "\n",
    "struct Block{T <: Integer}\n",
    "    # A(B)\n",
    "    dim::T\n",
    "    matr::SparseMatrixCSC{Float64,T}\n",
    "end\n",
    "\n",
    "struct SuperBlock{T <: Integer}\n",
    "    # A..B\n",
    "    dim::T\n",
    "    supermatr::SparseMatrixCSC{Float64,T}\n",
    "end\n",
    "\n",
    "#Pauli matrices\n",
    "sp0 = SparseMatrixCSC(2,2,[1,2,2],[1,2],[0,1])\n",
    "sm0 = SparseMatrixCSC(2,2,[1,2,2],[2,2],[1,0])\n",
    "sz0 = SparseMatrixCSC(2,2,[1,2,3],[1,2],[0.5,-0.5])\n",
    "\n",
    "H0 = Block(2, 0.5 *kron(sp0,sm0)  + 0.5 *kron(sm0,sp0) + Jz *kron(sz0,sz0)\n"
   ]
  },
  {
   "cell_type": "code",
   "execution_count": 44,
   "metadata": {},
   "outputs": [
    {
     "ename": "LoadError",
     "evalue": "syntax: expected \"(\" in function definition",
     "output_type": "error",
     "traceback": [
      "syntax: expected \"(\" in function definition",
      ""
     ]
    }
   ],
   "source": [
    "\n",
    "function TwoSite(sp::T, sm::T, sz::T){T::SparseMatrixCSC{Float64,Integer}}\n",
    "    end\n",
    "        \n",
    "#=\n",
    "function Enlarge(block::Block)\n",
    "    # construct A..B\n",
    "    I2 = sparse(Matrix(1.0I,2,2))\n",
    "    Idim = sparse(Matrix(1.0I,block.dim-1,block.dim-1))\n",
    "    ham = kron(block.matr, I2) \n",
    "    end\n",
    "=#"
   ]
  },
  {
   "cell_type": "code",
   "execution_count": 33,
   "metadata": {},
   "outputs": [
    {
     "ename": "BoundsError",
     "evalue": "BoundsError: attempt to access 2-element Array{Int64,1} at index [3]",
     "output_type": "error",
     "traceback": [
      "BoundsError: attempt to access 2-element Array{Int64,1} at index [3]",
      "",
      "Stacktrace:",
      " [1] getindex at ./array.jl:729 [inlined]",
      " [2] nnz at /Users/osx/buildbot/slave/package_osx64/build/usr/share/julia/stdlib/v1.1/SparseArrays/src/sparsematrix.jl:73 [inlined]",
      " [3] show at /Users/osx/buildbot/slave/package_osx64/build/usr/share/julia/stdlib/v1.1/SparseArrays/src/sparsematrix.jl:150 [inlined]",
      " [4] limitstringmime(::MIME{Symbol(\"text/plain\")}, ::SparseMatrixCSC{Int64,Int64}) at /Users/liangshuang/.julia/packages/IJulia/yLI42/src/inline.jl:43",
      " [5] display_mimestring(::MIME{Symbol(\"text/plain\")}, ::SparseMatrixCSC{Int64,Int64}) at /Users/liangshuang/.julia/packages/IJulia/yLI42/src/display.jl:67",
      " [6] display_dict(::SparseMatrixCSC{Int64,Int64}) at /Users/liangshuang/.julia/packages/IJulia/yLI42/src/display.jl:96",
      " [7] #invokelatest#1 at ./essentials.jl:742 [inlined]",
      " [8] invokelatest at ./essentials.jl:741 [inlined]",
      " [9] execute_request(::ZMQ.Socket, ::IJulia.Msg) at /Users/liangshuang/.julia/packages/IJulia/yLI42/src/execute_request.jl:112",
      " [10] #invokelatest#1 at ./essentials.jl:742 [inlined]",
      " [11] invokelatest at ./essentials.jl:741 [inlined]",
      " [12] eventloop(::ZMQ.Socket) at /Users/liangshuang/.julia/packages/IJulia/yLI42/src/eventloop.jl:8",
      " [13] (::getfield(IJulia, Symbol(\"##15#18\")))() at ./task.jl:259"
     ]
    }
   ],
   "source": []
  },
  {
   "cell_type": "code",
   "execution_count": 57,
   "metadata": {},
   "outputs": [
    {
     "ename": "UndefVarError",
     "evalue": "UndefVarError: Float not defined",
     "output_type": "error",
     "traceback": [
      "UndefVarError: Float not defined",
      "",
      "Stacktrace:",
      " [1] top-level scope at In[57]:1"
     ]
    }
   ],
   "source": [
    "Float"
   ]
  },
  {
   "cell_type": "code",
   "execution_count": 30,
   "metadata": {},
   "outputs": [
    {
     "data": {
      "text/plain": [
       "2×2 SparseMatrixCSC{Float64,Int64} with 2 stored entries:\n",
       "  [1, 1]  =  1.0\n",
       "  [2, 2]  =  1.0"
      ]
     },
     "execution_count": 30,
     "metadata": {},
     "output_type": "execute_result"
    }
   ],
   "source": [
    "\n",
    "sparse(Matrix(1.0I,2,2))"
   ]
  },
  {
   "cell_type": "code",
   "execution_count": null,
   "metadata": {},
   "outputs": [],
   "source": []
  }
 ],
 "metadata": {
  "kernelspec": {
   "display_name": "Julia 1.1.0",
   "language": "julia",
   "name": "julia-1.1"
  },
  "language_info": {
   "file_extension": ".jl",
   "mimetype": "application/julia",
   "name": "julia",
   "version": "1.1.0"
  },
  "latex_envs": {
   "LaTeX_envs_menu_present": true,
   "autoclose": false,
   "autocomplete": false,
   "bibliofile": "biblio.bib",
   "cite_by": "apalike",
   "current_citInitial": 1,
   "eqLabelWithNumbers": true,
   "eqNumInitial": 1,
   "hotkeys": {
    "equation": "Ctrl-E",
    "itemize": "Ctrl-I"
   },
   "labels_anchors": false,
   "latex_user_defs": false,
   "report_style_numbering": true,
   "user_envs_cfg": false
  },
  "toc": {
   "base_numbering": 1,
   "nav_menu": {},
   "number_sections": true,
   "sideBar": true,
   "skip_h1_title": false,
   "title_cell": "Table of Contents",
   "title_sidebar": "Contents",
   "toc_cell": false,
   "toc_position": {},
   "toc_section_display": true,
   "toc_window_display": false
  }
 },
 "nbformat": 4,
 "nbformat_minor": 2
}
